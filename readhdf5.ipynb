{
 "cells": [
  {
   "cell_type": "code",
   "execution_count": 12,
   "metadata": {},
   "outputs": [
    {
     "name": "stdout",
     "output_type": "stream",
     "text": [
      "Keys: KeysView(<HDF5 file \"corcsaprM1.00.20181106.221001.raw.cor-ppi-cacti-15tilt_CSAPR2_20181106210009_00.h5\" (mode r)>)\n"
     ]
    },
    {
     "data": {
      "text/plain": [
       "['how',\n",
       " 'scan0',\n",
       " 'scan1',\n",
       " 'scan10',\n",
       " 'scan11',\n",
       " 'scan12',\n",
       " 'scan13',\n",
       " 'scan14',\n",
       " 'scan2',\n",
       " 'scan3',\n",
       " 'scan4',\n",
       " 'scan5',\n",
       " 'scan6',\n",
       " 'scan7',\n",
       " 'scan8',\n",
       " 'scan9',\n",
       " 'what',\n",
       " 'where']"
      ]
     },
     "execution_count": 12,
     "metadata": {},
     "output_type": "execute_result"
    }
   ],
   "source": [
    "import h5py\n",
    "filename = '/run/media/hunzinger/WININSTALL/csapr2-data/corcsaprM1.00.20181106.221001.raw.cor-ppi-cacti-15tilt_CSAPR2_20181106210009_00.h5'\n",
    "f = h5py.File(filename, 'r')\n",
    "\n",
    "# List all groups\n",
    "print(\"Keys: %s\" % f.keys())\n",
    "list(f)\n",
    "#a_group_key = list(f.keys())[0]\n",
    "\n",
    "# Get the data\n",
    "#data = list(f[a_group_key])"
   ]
  },
  {
   "cell_type": "code",
   "execution_count": 14,
   "metadata": {},
   "outputs": [
    {
     "data": {
      "text/plain": [
       "['how',\n",
       " 'moment_0',\n",
       " 'moment_1',\n",
       " 'moment_10',\n",
       " 'moment_11',\n",
       " 'moment_12',\n",
       " 'moment_13',\n",
       " 'moment_14',\n",
       " 'moment_15',\n",
       " 'moment_16',\n",
       " 'moment_17',\n",
       " 'moment_18',\n",
       " 'moment_19',\n",
       " 'moment_2',\n",
       " 'moment_20',\n",
       " 'moment_21',\n",
       " 'moment_22',\n",
       " 'moment_23',\n",
       " 'moment_24',\n",
       " 'moment_25',\n",
       " 'moment_26',\n",
       " 'moment_27',\n",
       " 'moment_28',\n",
       " 'moment_29',\n",
       " 'moment_3',\n",
       " 'moment_30',\n",
       " 'moment_31',\n",
       " 'moment_4',\n",
       " 'moment_5',\n",
       " 'moment_6',\n",
       " 'moment_7',\n",
       " 'moment_8',\n",
       " 'moment_9',\n",
       " 'ray_header',\n",
       " 'what']"
      ]
     },
     "execution_count": 14,
     "metadata": {},
     "output_type": "execute_result"
    }
   ],
   "source": [
    "group1 = f['scan0']\n",
    "list(dat)"
   ]
  },
  {
   "cell_type": "code",
   "execution_count": 18,
   "metadata": {},
   "outputs": [
    {
     "data": {
      "text/plain": [
       "(54.05273438, 55.15136719, 0.98876953, 0.96679688, 1541538009078000, 14.80957031, -0.43945312, 1541538009149000, 1240, 88, 77.54941559, 60068616., 0, 159, 2147483647, 5, 22.851648, 1.7173767, 983.79846, 275.996, 0, 0.)"
      ]
     },
     "execution_count": 18,
     "metadata": {},
     "output_type": "execute_result"
    }
   ],
   "source": [
    "group1['ray_header'][:][0]"
   ]
  },
  {
   "cell_type": "code",
   "execution_count": null,
   "metadata": {},
   "outputs": [],
   "source": []
  },
  {
   "cell_type": "code",
   "execution_count": null,
   "metadata": {},
   "outputs": [],
   "source": []
  }
 ],
 "metadata": {
  "kernelspec": {
   "display_name": "Python 3",
   "language": "python",
   "name": "python3"
  },
  "language_info": {
   "codemirror_mode": {
    "name": "ipython",
    "version": 3
   },
   "file_extension": ".py",
   "mimetype": "text/x-python",
   "name": "python",
   "nbconvert_exporter": "python",
   "pygments_lexer": "ipython3",
   "version": "3.6.6"
  }
 },
 "nbformat": 4,
 "nbformat_minor": 2
}
