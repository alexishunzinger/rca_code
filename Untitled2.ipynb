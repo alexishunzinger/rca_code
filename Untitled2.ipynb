{
 "cells": [
  {
   "cell_type": "code",
   "execution_count": 150,
   "metadata": {},
   "outputs": [],
   "source": [
    "import numpy as np\n",
    "import pyart\n",
    "from netCDF4 import Dataset \n",
    "import matplotlib.pyplot as plt"
   ]
  },
  {
   "cell_type": "code",
   "execution_count": 152,
   "metadata": {},
   "outputs": [],
   "source": [
    "filename = '/run/media/hunzinger/WININSTALL/csapr2-data/corcsaprM1.00.20181018.152556.raw.cor-hsrhi-cacti-b_CSAPR2_20181018152556_00.h5'\n",
    "radar = pyart.aux_io.read_gamic(filename, file_field_names=True) \n",
    "\n",
    "r_start_idx = 0\n",
    "r_stop_idx = np.where(radar.range['data'] > 80000.)[0][0]\n",
    "\n",
    "r = radar.range['data'][r_start_idx:r_stop_idx]\n",
    "theta = radar.azimuth['data']\n",
    "zh = radar.fields['UZh']['data'][:,r_start_idx:r_stop_idx]\n",
    "elev = radar.elevation['data']\n",
    "\n",
    "elev_list = [1,2,3,4,5,175,176,177,178,179]\n",
    "theta_list = [0,30,60,90,120,150]\n",
    "r_list = np.arange(80)+1\n",
    "clutter_flag = np.zeros((6,10,80)) # 6 azimuths, 10 elevation bins, 80 range bins (1-80 km, 1 km increments)\n",
    "z_thresh = 45.\n",
    "\n",
    "cluttermapdir = '/home/hunzinger/projects/taranis/taranis/calibration/'\n",
    "dataset = Dataset(cluttermapdir+'cluttermap_hsrhi_20181108.nc')\n",
    "hPCT = dataset.variables['clutter_gate_pcts_zh'][:,:,:]\n",
    "    #vPCT = dataset.variables['clutter_gate_pcts_zv'][:,:,:]\n",
    "clutter_mask_h = dataset.variables['clutter_map_mask_zh'][:,:,:]\n",
    "clutter_mask_v = dataset.variables['clutter_map_mask_zv'][:,:,:]\n",
    "dataset.close()\n",
    "\n",
    "#hPCT\n",
    "#clutter_mask_h"
   ]
  },
  {
   "cell_type": "code",
   "execution_count": 153,
   "metadata": {},
   "outputs": [],
   "source": [
    "zh_from_mask = []\n",
    "for idx_az, az in enumerate(theta_list):\n",
    "    if az == 0:                                                                              # create masks for the desried azimuths\n",
    "        az_mask = np.logical_or(np.logical_and(theta > az-2., theta < az+2.), theta > 358.) #special case to get 0 and 360 (same azimuth)\n",
    "    else:\n",
    "        az_mask = np.logical_and(theta > az-2., theta < az+2.)\n",
    "    for idx_el, el in enumerate(elev_list):\n",
    "        el_mask = np.abs(elev - el) < .5\n",
    "        zh_rays = zh[np.logical_and(az_mask,el_mask),:]\n",
    "        zh_rays = np.ma.getdata(zh_rays)\n",
    "        zh_list = []\n",
    "        for idx_ra, ra in enumerate(r_list):\n",
    "            if clutter_mask_h[idx_az,idx_el,idx_ra]:\n",
    "                zh_list.append(zh_rays[:,idx_ra*10:idx_ra*10+10])\n",
    "            #zh_list = np.array(zh_list)\n",
    "        zh_from_mask.append(zh_list)"
   ]
  },
  {
   "cell_type": "code",
   "execution_count": 154,
   "metadata": {},
   "outputs": [],
   "source": [
    "\n",
    "#suma = np.sum(zh_list)\n",
    "#suma\n",
    "#len(zh_from_mask)\n",
    "\n",
    "all_zh = []\n",
    "for i in range(0,len(zh_from_mask)):\n",
    "    zh_from_mask[i] = np.array(zh_from_mask[i])\n",
    "    if len(zh_from_mask[i]) != 0:\n",
    "        for ia,a in enumerate(zh_from_mask[i][:,0,0]):\n",
    "            for ib,b in enumerate(zh_from_mask[i][0,:,0]):\n",
    "                for ic,c in enumerate(zh_from_mask[i][0,0,:]):\n",
    "                    all_zh.append(zh_from_mask[i][ia,ib,ic])\n",
    "        \n",
    "       # print(zh_from_mask[i].shape)\n",
    "       # for a in zh_from_mask[i][:,0,0]:\n",
    "       #     for b in zh_from_mask[i][0,:,0]:\n",
    "       #         for c in zh_from_mask[i][0,0,:]:\n",
    "       #             print(a,b,c)\n",
    "        \n",
    "#zh_from_mask\n",
    "#zh_from_mask = np.array(zh_from_mask)\n",
    "#zh_from_mask[58].shape\n",
    "#zh_from_mask"
   ]
  },
  {
   "cell_type": "code",
   "execution_count": 157,
   "metadata": {},
   "outputs": [
    {
     "data": {
      "text/plain": [
       "(array([ 22., 113., 198., 213., 228., 251., 323., 423., 385., 124.]),\n",
       " array([-25.517967 , -16.235989 ,  -6.9540114,   2.3279662,  11.609944 ,\n",
       "         20.891922 ,  30.1739   ,  39.45588  ,  48.737854 ,  58.019833 ,\n",
       "         67.30181  ], dtype=float32),\n",
       " <a list of 10 Patch objects>)"
      ]
     },
     "execution_count": 157,
     "metadata": {},
     "output_type": "execute_result"
    },
    {
     "data": {
      "image/png": "[encoded data removed]",
      "text/plain": [
       "<Figure size 432x288 with 1 Axes>"
      ]
     },
     "metadata": {
      "needs_background": "light"
     },
     "output_type": "display_data"
    }
   ],
   "source": [
    "len(all_zh)\n",
    "#print(all_zh)\n",
    "np.histogram(all_zh)\n",
    "plt.hist(all_zh)"
   ]
  },
  {
   "cell_type": "code",
   "execution_count": 40,
   "metadata": {},
   "outputs": [],
   "source": [
    "idxx = []\n",
    "no = []\n",
    "for idx_a, a in enumerate(theta_list):\n",
    "    for idx_e, e in enumerate(elev_list):\n",
    "        for idx_r, r in enumerate(r_list):\n",
    "            if clutter_mask_h[idx_a,idx_e,idx_r]:\n",
    "               idxx.append([idx_a,idx_e,idx_r])\n",
    "            else:\n",
    "                no.append([idx_a,idx_e,idx_r])"
   ]
  },
  {
   "cell_type": "code",
   "execution_count": 42,
   "metadata": {},
   "outputs": [
    {
     "name": "stdout",
     "output_type": "stream",
     "text": [
      "114 4686\n"
     ]
    }
   ],
   "source": [
    "#clutter_mask_h\n",
    "print(len(idxx),len(no))"
   ]
  },
  {
   "cell_type": "code",
   "execution_count": 31,
   "metadata": {},
   "outputs": [
    {
     "data": {
      "text/plain": [
       "masked_array(\n",
       "  data=[[[5.452231407165527, 9.044083595275879, 11.261890411376953, ...,\n",
       "          31.781734466552734, 29.33247947692871, 32.39405059814453],\n",
       "         [5.452231407165527, 9.044083595275879, 11.261890411376953, ...,\n",
       "          31.781734466552734, 29.33247947692871, 32.39405059814453],\n",
       "         [-1.3652552366256714, -2.923872709274292, -1.075211763381958,\n",
       "          ..., --, --, --]],\n",
       "\n",
       "        [[5.452231407165527, 9.044083595275879, 11.261890411376953, ...,\n",
       "          31.781734466552734, 29.33247947692871, 32.39405059814453],\n",
       "         [5.452231407165527, 9.044083595275879, 11.261890411376953, ...,\n",
       "          31.781734466552734, 29.33247947692871, 32.39405059814453],\n",
       "         [-2.024445056915283, -3.046921491622925, -0.40723279118537903,\n",
       "          ..., --, --, -15.78246784210205]],\n",
       "\n",
       "        [[5.452231407165527, 9.044083595275879, 11.261890411376953, ...,\n",
       "          31.781734466552734, 29.33247947692871, 32.39405059814453],\n",
       "         [5.452231407165527, 9.044083595275879, 11.261890411376953, ...,\n",
       "          31.781734466552734, 29.33247947692871, 32.39405059814453],\n",
       "         [-1.5644769668579102, -2.0976881980895996, 0.35449761152267456,\n",
       "          ..., --, --, -20.90949821472168]],\n",
       "\n",
       "        ...,\n",
       "\n",
       "        [[-0.2373083084821701, 9.58315372467041, -3.1289539337158203,\n",
       "          ..., -0.3164110779762268, -3.401419162750244,\n",
       "          -4.297917366027832],\n",
       "         [3.99322509765625, 5.1533989906311035, -0.8584115505218506,\n",
       "          ..., -18.088167190551758, -8.821423530578613,\n",
       "          -8.534310340881348],\n",
       "         [-0.5097734332084656, -5.578210353851318, -1.9541313648223877,\n",
       "          ..., --, -11.604669570922852, -16.684823989868164]],\n",
       "\n",
       "        [[-0.2373083084821701, 9.58315372467041, -3.1289539337158203,\n",
       "          ..., -0.3164110779762268, -3.401419162750244,\n",
       "          -4.297917366027832],\n",
       "         [3.99322509765625, 5.1533989906311035, -0.8584115505218506,\n",
       "          ..., -18.088167190551758, -8.821423530578613,\n",
       "          -8.534310340881348],\n",
       "         [-2.636759042739868, -5.487388610839844, 1.4297093152999878,\n",
       "          ..., -23.420278549194336, -14.859601974487305, --]],\n",
       "\n",
       "        [[-0.2373083084821701, 9.58315372467041, -3.1289539337158203,\n",
       "          ..., -0.3164110779762268, -3.401419162750244,\n",
       "          -4.297917366027832],\n",
       "         [3.99322509765625, 5.1533989906311035, -0.8584115505218506,\n",
       "          ..., -18.088167190551758, -8.821423530578613,\n",
       "          -8.534310340881348],\n",
       "         [-3.231494665145874, 0.9404440522193909, -2.3525750637054443,\n",
       "          ..., -15.31956958770752, -22.746440887451172,\n",
       "          -15.723873138427734]]],\n",
       "  mask=[[[False, False, False, ..., False, False, False],\n",
       "         [False, False, False, ..., False, False, False],\n",
       "         [False, False, False, ...,  True,  True,  True]],\n",
       "\n",
       "        [[False, False, False, ..., False, False, False],\n",
       "         [False, False, False, ..., False, False, False],\n",
       "         [False, False, False, ...,  True,  True, False]],\n",
       "\n",
       "        [[False, False, False, ..., False, False, False],\n",
       "         [False, False, False, ..., False, False, False],\n",
       "         [False, False, False, ...,  True,  True, False]],\n",
       "\n",
       "        ...,\n",
       "\n",
       "        [[False, False, False, ..., False, False, False],\n",
       "         [False, False, False, ..., False, False, False],\n",
       "         [False, False, False, ...,  True, False, False]],\n",
       "\n",
       "        [[False, False, False, ..., False, False, False],\n",
       "         [False, False, False, ..., False, False, False],\n",
       "         [False, False, False, ..., False, False,  True]],\n",
       "\n",
       "        [[False, False, False, ..., False, False, False],\n",
       "         [False, False, False, ..., False, False, False],\n",
       "         [False, False, False, ..., False, False, False]]],\n",
       "  fill_value=1e+20,\n",
       "  dtype=float32)"
      ]
     },
     "execution_count": 31,
     "metadata": {},
     "output_type": "execute_result"
    }
   ],
   "source": [
    "zh[idxx]"
   ]
  },
  {
   "cell_type": "code",
   "execution_count": 34,
   "metadata": {},
   "outputs": [],
   "source": [
    "x = np.arange(10)\n",
    "xmask = x >= 7"
   ]
  },
  {
   "cell_type": "code",
   "execution_count": 35,
   "metadata": {},
   "outputs": [
    {
     "data": {
      "text/plain": [
       "array([False, False, False, False, False, False, False,  True,  True,\n",
       "        True])"
      ]
     },
     "execution_count": 35,
     "metadata": {},
     "output_type": "execute_result"
    }
   ],
   "source": [
    "xmask"
   ]
  },
  {
   "cell_type": "code",
   "execution_count": null,
   "metadata": {},
   "outputs": [],
   "source": []
  }
 ],
 "metadata": {
  "kernelspec": {
   "display_name": "Python 3",
   "language": "python",
   "name": "python3"
  },
  "language_info": {
   "codemirror_mode": {
    "name": "ipython",
    "version": 3
   },
   "file_extension": ".py",
   "mimetype": "text/x-python",
   "name": "python",
   "nbconvert_exporter": "python",
   "pygments_lexer": "ipython3",
   "version": "3.6.6"
  }
 },
 "nbformat": 4,
 "nbformat_minor": 2
}
