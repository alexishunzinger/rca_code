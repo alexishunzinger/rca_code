{
 "cells": [
  {
   "cell_type": "code",
   "execution_count": 21,
   "metadata": {},
   "outputs": [],
   "source": [
    "import numpy as np\n",
    "import pyart"
   ]
  },
  {
   "cell_type": "code",
   "execution_count": 27,
   "metadata": {},
   "outputs": [
    {
     "name": "stdout",
     "output_type": "stream",
     "text": [
      "(2172, 801)\n",
      "(2172,)\n",
      "(801,)\n",
      "(60, 81)\n"
     ]
    }
   ],
   "source": [
    "filename = '/run/media/hunzinger/WININSTALL/csapr2-data/corcsaprM1.00.20181018.152556.raw.cor-hsrhi-cacti-b_CSAPR2_20181018152556_00.h5'\n",
    "radar = pyart.aux_io.read_gamic(filename, file_field_names=True) \n",
    "\n",
    "r_start_idx = 0\n",
    "r_stop_idx = np.where(radar.range['data'] > 80000.)[0][0]\n",
    "\n",
    "r = radar.range['data'][r_start_idx:r_stop_idx]\n",
    "theta = radar.azimuth['data']\n",
    "zh = radar.fields['Zh']['data'][:,r_start_idx:r_stop_idx]\n",
    "elev = radar.elevation['data']\n",
    "\n",
    "elev_list = [1,2,3,4,5,175,176,177,178,179]\n",
    "theta_list = [0,30,60,90,120,150]\n",
    "clutter_dim_elev = len(elev_list)*6\n",
    "clutter_dim_r = 81\n",
    "clutter_flag_h = np.zeros((clutter_dim_elev,clutter_dim_r))\n",
    "\n",
    "print(zh.shape)\n",
    "print(elev.shape)\n",
    "print(r.shape)\n",
    "print(clutter_flag_h.shape)"
   ]
  },
  {
   "cell_type": "code",
   "execution_count": 92,
   "metadata": {},
   "outputs": [
    {
     "name": "stdout",
     "output_type": "stream",
     "text": [
      "(2172, 801)\n",
      "[ 1  2  3  4  5  6  7  8  9 10 11 12 13 14 15 16 17 18 19 20 21 22 23 24\n",
      " 25 26 27 28 29 30 31 32 33 34 35 36 37 38 39 40 41 42 43 44 45 46 47 48\n",
      " 49 50 51 52 53 54 55 56 57 58 59 60 61 62 63 64 65 66 67 68 69 70 71 72\n",
      " 73 74 75 76 77 78 79 80]\n"
     ]
    }
   ],
   "source": [
    "print(zh.shape)\n",
    "elev_list = [1]#,2,3,4,5,175,176,177,178,179]\n",
    "theta_list = [0]#,30,60,90,120,150]\n",
    "r_list = np.arange(80)+1\n",
    "clutter_flag = np.zeros((6,10,80)) # 6 azimuths, 10 elevation bins, 80 range bins (1-80 km, 1 km increments)\n",
    "z_thresh = 45.\n",
    "\n",
    "print(r_list)"
   ]
  },
  {
   "cell_type": "code",
   "execution_count": 115,
   "metadata": {},
   "outputs": [
    {
     "name": "stdout",
     "output_type": "stream",
     "text": [
      "0 1\n",
      "0\n",
      "(6, 10, 80)\n"
     ]
    }
   ],
   "source": [
    "\n",
    "#Test slice zh\n",
    "#zh = zh[:,0:81]\n",
    "\n",
    "for idx_az, az in enumerate(theta_list): #loop thru each azimuth in list\n",
    "    if az == 0:\n",
    "        az_mask = np.logical_or(np.logical_and(theta > theta-2., theta < theta+2.), theta > 358.) #special case to get 0 and 360 (same azimuth)\n",
    "    else:\n",
    "        az_mask = np.logical_and(theta > theta-2., theta < theta+2.)  # create masks for the desried azimuths\n",
    "    for idx_el, el in enumerate(elev_list):  #loop thru each element in desired elevation grid boxes \n",
    "        el_mask = np.abs(elev - el) < .5                            # and elevations   \n",
    "        #zh_ray_list = []\n",
    "        print(az,el)\n",
    "        #print(az_mask.shape, el_mask.shape)\n",
    "        zh_rays = zh[np.logical_and(az_mask,el_mask),:]\n",
    "        #print(zh_select.shape)\n",
    "        for idx_m, m in enumerate(r_list):\n",
    "            if m == 80:\n",
    "                continue\n",
    "            else:\n",
    "                #print(m, m*1000, m*1000+900)\n",
    "                zh_ray_list = []\n",
    "                for idx_z, z in enumerate(zh_rays[:,idx_m*10:idx_m*10+10]):\n",
    "                    #if z >= z_thresh:\n",
    "                        #print(z)\n",
    "                        #zh_ray_list.append(z)\n",
    "                        #clutter_flag[idx_az,idx_el,idx_m] = 1\n",
    "                    #print(z.shape)\n",
    "                    clutthresh = np.where(z <= 0.)\n",
    "                    if np.any(z >= z_thresh):\n",
    "                        #print(z)\n",
    "                        zh_ray_list.append(z)\n",
    "                        clutter_flag[idx_az,idx_el,idx_m] = 1\n",
    "        print(len(zh_ray_list))\n",
    "    print(clutter_flag.shape)                \n",
    "                    \n",
    "       # for idx_n, n in enumerate(zh_ray_list):\n",
    "       #     if n >= z_thresh:\n",
    "       #         clutter_map[idx_k,idx_m] = 1\n",
    "            \n",
    "\n",
    "#for idx_k, k in enumerate(elev_list): \n",
    "    #print(k)\n",
    "   # zh_ray_list = []\n",
    "    #for idx_rang, rang in enumerate(r_list):\n",
    "        #print(rang)\n",
    "     #   if rang == 0:\n",
    "    #        continue\n",
    "   #     else:\n",
    "  #          for idx_el, el in enumerate(zh[:,rang*10-10:rang*10]):\n",
    " #               if np.abs(elev[idx_el] - k) < 0.5:\n",
    "#                    zh_ray_list.append(el)\n",
    "        #print(elev[idx_el])\n",
    "       # for idx_rang, rang in enumerate(zh[0,:]):\n",
    "            #print(idx_rang)\n",
    "#        #print(idx_elev,idx_rang)\n",
    "\n",
    "    "
   ]
  },
  {
   "cell_type": "code",
   "execution_count": 117,
   "metadata": {},
   "outputs": [
    {
     "data": {
      "text/plain": [
       "(array([0, 1, 2, 3, 4, 5, 6, 7, 8, 9]),)"
      ]
     },
     "execution_count": 117,
     "metadata": {},
     "output_type": "execute_result"
    }
   ],
   "source": [
    "clutthresh\n",
    "#zh_select.shape\n",
    "#zh_select[0,645]\n",
    "#print(clutter_flag[0,:,:])"
   ]
  },
  {
   "cell_type": "code",
   "execution_count": 17,
   "metadata": {},
   "outputs": [],
   "source": [
    "el_mask = np.abs(elev - 1) < .5\n",
    "az_mask = np.logical_and(theta >28, theta < 33)"
   ]
  },
  {
   "cell_type": "code",
   "execution_count": 18,
   "metadata": {},
   "outputs": [
    {
     "data": {
      "text/plain": [
       "[<matplotlib.lines.Line2D at 0x7f41052d22e8>]"
      ]
     },
     "execution_count": 18,
     "metadata": {},
     "output_type": "execute_result"
    },
    {
     "data": {
      "image/png": "[encoded data removed]",
      "text/plain": [
       "<Figure size 432x288 with 1 Axes>"
      ]
     },
     "metadata": {
      "needs_background": "light"
     },
     "output_type": "display_data"
    }
   ],
   "source": [
    "%matplotlib inline\n",
    "import matplotlib.pyplot as plt\n",
    "\n",
    "plt.plot(np.logical_and(az_mask, el_mask))"
   ]
  },
  {
   "cell_type": "code",
   "execution_count": 66,
   "metadata": {},
   "outputs": [],
   "source": [
    "zh_rays = zh[mask,:]"
   ]
  },
  {
   "cell_type": "code",
   "execution_count": 68,
   "metadata": {},
   "outputs": [
    {
     "data": {
      "text/plain": [
       "masked_array(\n",
       "  data=[[2.2002289295196533, -6.638772964477539, -6.345799922943115, ...,\n",
       "         37.72030258178711, 36.07672119140625, 33.11476135253906],\n",
       "        [-3.8877546787261963, -8.569466590881348, -8.982559204101562,\n",
       "         ..., 34.98686218261719, 32.6547966003418, 29.839323043823242],\n",
       "        [4.113344192504883, 8.226688385009766, -0.4277409017086029, ...,\n",
       "         -3.864316701889038, -3.3340351581573486, -4.664133548736572],\n",
       "        ...,\n",
       "        [-2.7041428089141846, -8.255985260009766, -2.5400779247283936,\n",
       "         ..., -12.126161575317383, -9.228656768798828,\n",
       "         -9.858549118041992],\n",
       "        [-2.4287478923797607, -9.923003196716309, -9.77651596069336, ...,\n",
       "         -8.736461639404297, -6.8438544273376465, --],\n",
       "        [-1.1689631938934326, -8.220829010009766, -8.909316062927246,\n",
       "         ..., -9.700343132019043, -8.777477264404297,\n",
       "         -16.309818267822266]],\n",
       "  mask=[[False, False, False, ..., False, False, False],\n",
       "        [False, False, False, ..., False, False, False],\n",
       "        [False, False, False, ..., False, False, False],\n",
       "        ...,\n",
       "        [False, False, False, ..., False, False, False],\n",
       "        [False, False, False, ..., False, False,  True],\n",
       "        [False, False, False, ..., False, False, False]],\n",
       "  fill_value=1e+20,\n",
       "  dtype=float32)"
      ]
     },
     "execution_count": 68,
     "metadata": {},
     "output_type": "execute_result"
    }
   ],
   "source": [
    "zh_rays"
   ]
  },
  {
   "cell_type": "code",
   "execution_count": 72,
   "metadata": {},
   "outputs": [
    {
     "name": "stdout",
     "output_type": "stream",
     "text": [
      "(array([ 364,  366, 1087, 1088, 1090, 1811, 1812]), array([21, 23, 15, 22, 21, 22, 35]))\n"
     ]
    }
   ],
   "source": [
    "x = np.where(zh > z_thresh)\n",
    "print(x)"
   ]
  },
  {
   "cell_type": "code",
   "execution_count": 73,
   "metadata": {},
   "outputs": [
    {
     "data": {
      "text/plain": [
       "array([ 364,  366, 1087, 1088, 1090, 1811, 1812])"
      ]
     },
     "execution_count": 73,
     "metadata": {},
     "output_type": "execute_result"
    }
   ],
   "source": [
    "x[0]"
   ]
  },
  {
   "cell_type": "code",
   "execution_count": 74,
   "metadata": {},
   "outputs": [
    {
     "data": {
      "text/plain": [
       "array([-179.7693 ,  179.23096, -179.2749 , -179.79126,  179.21997,\n",
       "       -179.26392, -179.7693 ], dtype=float32)"
      ]
     },
     "execution_count": 74,
     "metadata": {},
     "output_type": "execute_result"
    }
   ],
   "source": [
    "elev[x[0]]"
   ]
  },
  {
   "cell_type": "code",
   "execution_count": 75,
   "metadata": {},
   "outputs": [
    {
     "data": {
      "text/plain": [
       "array([ 30.047611,  30.036621,  90.06592 ,  90.043945,  90.02197 ,\n",
       "       150.07324 , 150.04028 ], dtype=float32)"
      ]
     },
     "execution_count": 75,
     "metadata": {},
     "output_type": "execute_result"
    }
   ],
   "source": [
    "theta[x[0]]"
   ]
  },
  {
   "cell_type": "code",
   "execution_count": 76,
   "metadata": {},
   "outputs": [
    {
     "data": {
      "text/plain": [
       "array([2100., 2300., 1500., 2200., 2100., 2200., 3500.], dtype=float32)"
      ]
     },
     "execution_count": 76,
     "metadata": {},
     "output_type": "execute_result"
    }
   ],
   "source": [
    "r[x[1]]"
   ]
  },
  {
   "cell_type": "code",
   "execution_count": null,
   "metadata": {},
   "outputs": [],
   "source": []
  }
 ],
 "metadata": {
  "kernelspec": {
   "display_name": "Python 3",
   "language": "python",
   "name": "python3"
  },
  "language_info": {
   "codemirror_mode": {
    "name": "ipython",
    "version": 3
   },
   "file_extension": ".py",
   "mimetype": "text/x-python",
   "name": "python",
   "nbconvert_exporter": "python",
   "pygments_lexer": "ipython3",
   "version": "3.6.6"
  }
 },
 "nbformat": 4,
 "nbformat_minor": 2
}
