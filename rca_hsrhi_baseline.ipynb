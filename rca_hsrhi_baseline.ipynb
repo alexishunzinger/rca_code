{
 "cells": [
  {
   "cell_type": "code",
   "execution_count": null,
   "metadata": {},
   "outputs": [],
   "source": [
    "import numpy as np\n",
    "import matplotlib.pyplot as plt\n",
    "import pyart"
   ]
  },
  {
   "cell_type": "code",
   "execution_count": null,
   "metadata": {},
   "outputs": [],
   "source": [
    "def rca_create_baseline(filename, hPCT_on_50, vPCT_on_50, uhPCT_on_50, uvPCT_on_50, hmask, vmask, uhmask, uvmask):\n",
    "    '''Calculates the 95th percentile clutter area reflectivity baseline using clutter map'''\n",
    "    #radar = pyart.io.cfradial.read_cfradial(filename)\n",
    "    radar = pyart.aux_io.read_gamic(filename, file_field_names=True)\n",
    "    date_time = radar.time['units'].replace('seconds since ', '')"
   ]
  }
 ],
 "metadata": {
  "kernelspec": {
   "display_name": "Python 3",
   "language": "python",
   "name": "python3"
  },
  "language_info": {
   "codemirror_mode": {
    "name": "ipython",
    "version": 3
   },
   "file_extension": ".py",
   "mimetype": "text/x-python",
   "name": "python",
   "nbconvert_exporter": "python",
   "pygments_lexer": "ipython3",
   "version": "3.6.6"
  }
 },
 "nbformat": 4,
 "nbformat_minor": 2
}
