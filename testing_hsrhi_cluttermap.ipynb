{
 "cells": [
  {
   "cell_type": "code",
   "execution_count": 77,
   "metadata": {},
   "outputs": [],
   "source": [
    "import numpy as np\n",
    "import pyart"
   ]
  },
  {
   "cell_type": "code",
   "execution_count": 17,
   "metadata": {},
   "outputs": [],
   "source": [
    "r_grid = np.arange(81)*1000.\n",
    "elev_grid_1 = np.arange(5.)\n",
    "elev_grid_2 = np.arange(5.)+175.\n",
    "el_grid = np.concatenate((elev_grid_1,elev_grid_2),axis=0)\n",
    "el_grid_r = el_grid[::-1]"
   ]
  },
  {
   "cell_type": "code",
   "execution_count": 18,
   "metadata": {},
   "outputs": [
    {
     "name": "stdout",
     "output_type": "stream",
     "text": [
      "[0. 1. 2. 3. 4.]\n",
      "[175. 176. 177. 178. 179.]\n",
      "[  0.   1.   2.   3.   4. 175. 176. 177. 178. 179.]\n",
      "[179. 178. 177. 176. 175.   4.   3.   2.   1.   0.]\n"
     ]
    }
   ],
   "source": [
    "print(elev_grid_1)\n",
    "print(elev_grid_2)\n",
    "print(el_grid)\n",
    "print(el_grid_r)"
   ]
  },
  {
   "cell_type": "code",
   "execution_count": 19,
   "metadata": {},
   "outputs": [],
   "source": [
    "el_grd = np.concatenate((el_grid,el_grid_r),axis=0)"
   ]
  },
  {
   "cell_type": "code",
   "execution_count": 20,
   "metadata": {},
   "outputs": [
    {
     "data": {
      "text/plain": [
       "(20,)"
      ]
     },
     "execution_count": 20,
     "metadata": {},
     "output_type": "execute_result"
    }
   ],
   "source": [
    "el_grd.shape"
   ]
  },
  {
   "cell_type": "code",
   "execution_count": 21,
   "metadata": {},
   "outputs": [],
   "source": [
    "elev_grid = np.concatenate((el_grd,el_grd,el_grd),axis=0)"
   ]
  },
  {
   "cell_type": "code",
   "execution_count": 22,
   "metadata": {},
   "outputs": [
    {
     "data": {
      "text/plain": [
       "(60,)"
      ]
     },
     "execution_count": 22,
     "metadata": {},
     "output_type": "execute_result"
    }
   ],
   "source": [
    "elev_grid.shape"
   ]
  },
  {
   "cell_type": "code",
   "execution_count": 23,
   "metadata": {},
   "outputs": [
    {
     "name": "stdout",
     "output_type": "stream",
     "text": [
      "[  0.   1.   2.   3.   4. 175. 176. 177. 178. 179. 179. 178. 177. 176.\n",
      " 175.   4.   3.   2.   1.   0.   0.   1.   2.   3.   4. 175. 176. 177.\n",
      " 178. 179. 179. 178. 177. 176. 175.   4.   3.   2.   1.   0.   0.   1.\n",
      "   2.   3.   4. 175. 176. 177. 178. 179. 179. 178. 177. 176. 175.   4.\n",
      "   3.   2.   1.   0.]\n"
     ]
    }
   ],
   "source": [
    "print(elev_grid)"
   ]
  },
  {
   "cell_type": "code",
   "execution_count": 51,
   "metadata": {},
   "outputs": [],
   "source": [
    "filename = '/run/media/hunzinger/WININSTALL/csapr2-data/corcsaprM1.00.20181018.152556.raw.cor-hsrhi-cacti-b_CSAPR2_20181018152556_00.h5'\n",
    "radar = pyart.aux_io.read_gamic(filename, file_field_names=True) \n",
    "\n",
    "r_start_idx = 0\n",
    "r_stop_idx = np.where(radar.range['data'] > 80000.)[0][0]\n",
    "    \n",
    "elev = radar.elevation['data']\n",
    "elev_mask =  np.logical_or(np.abs(elev) < 5., elev > 175.)\n",
    "\n",
    "r = radar.range['data'][r_start_idx:r_stop_idx]\n",
    "theta = radar.azimuth['data'][elev_mask]\n",
    "zh = radar.fields['Zh']['data'][elev_mask,r_start_idx:r_stop_idx]\n",
    "elev = elev[elev_mask]\n",
    "\n",
    "r_grid = np.arange(81)*1000.\n",
    "theta_values = np.arange(6.)*30\n",
    "elev_grid_1 = np.arange(5.)\n",
    "elev_grid_2 = np.arange(5.)+175.\n",
    "el_grid = np.concatenate((elev_grid_1,elev_grid_2),axis=0)\n",
    "el_grid_r = el_grid[::-1]\n",
    "el = np.concatenate((el_grid,el_grid_r),axis=0)\n",
    "elev_grid = np.concatenate((el,el,el),axis=0)\n",
    "\n",
    "r_m, theta_m = np.meshgrid(r,theta)\n",
    "r_m, elev_m = np.meshgrid(r,elev)\n",
    "r_matrix, elev_matrix = np.meshgrid(r_grid,elev_grid)\n",
    "clutter_flag_h = np.zeros((r_matrix.shape))"
   ]
  },
  {
   "cell_type": "code",
   "execution_count": 52,
   "metadata": {},
   "outputs": [
    {
     "name": "stdout",
     "output_type": "stream",
     "text": [
      "(60, 81)\n",
      "(60,)\n",
      "(111,)\n",
      "(111, 801)\n",
      "(111,)\n",
      "(111, 801)\n"
     ]
    },
    {
     "data": {
      "text/plain": [
       "array([[359.97803, 359.97803, 359.97803, ..., 359.97803, 359.97803,\n",
       "        359.97803],\n",
       "       [359.97803, 359.97803, 359.97803, ..., 359.97803, 359.97803,\n",
       "        359.97803],\n",
       "       [359.97803, 359.97803, 359.97803, ..., 359.97803, 359.97803,\n",
       "        359.97803],\n",
       "       ...,\n",
       "       [149.98535, 149.98535, 149.98535, ..., 149.98535, 149.98535,\n",
       "        149.98535],\n",
       "       [149.98535, 149.98535, 149.98535, ..., 149.98535, 149.98535,\n",
       "        149.98535],\n",
       "       [149.98535, 149.98535, 149.98535, ..., 149.98535, 149.98535,\n",
       "        149.98535]], dtype=float32)"
      ]
     },
     "execution_count": 52,
     "metadata": {},
     "output_type": "execute_result"
    }
   ],
   "source": [
    "print(clutter_flag_h.shape)\n",
    "print(elev_grid.shape)\n",
    "print(elev.shape)\n",
    "print(zh.shape)\n",
    "print(theta.shape)\n",
    "print(r_m.shape)\n",
    "theta_m"
   ]
  },
  {
   "cell_type": "code",
   "execution_count": 76,
   "metadata": {
    "scrolled": true
   },
   "outputs": [
    {
     "name": "stdout",
     "output_type": "stream",
     "text": [
      "[  0.7690429   1.2634279   1.7797852   2.2851562   2.7905273   3.3068848\n",
      "   3.8012698   4.2736816   4.7570806 175.2649    175.78125   176.2976\n",
      " 176.80298   177.28639   177.76978   178.27515   178.7915    179.30786  ]\n",
      "[179.73633    179.23096    178.70361    178.18726    177.71484\n",
      " 177.23145    176.7151     176.19873    175.70435    175.20996\n",
      "   4.7351074    4.2187505    3.7023928    3.1970215    2.6916504\n",
      "   2.1972654    1.7028807    1.2194824    0.73608404]\n",
      "[  0.7800293   1.2963867   1.8017578   2.27417     2.7575684   3.2629395\n",
      "   3.7902834   4.295655    4.7790523 175.28687   175.77026   176.25366\n",
      " 176.75905   177.2644    177.76978   178.27515   178.7915    179.30786  ]\n",
      "[179.71436   179.21997   178.7146    178.20923   177.70386   177.22046\n",
      " 176.72607   176.20972   175.72632   175.23193     4.7351074   4.229736\n",
      "   3.713379    3.208008    2.713623    2.219238    1.7248536   1.208496\n",
      "   0.7141114]\n",
      "[  0.7800293   1.2963867   1.8017578   2.2961428   2.779541    3.2629395\n",
      "   3.7792969   4.2736816   4.768067  175.30882   175.79224   176.27563\n",
      " 176.781     177.2754    177.76978   178.28613   178.80249   179.30786  ]\n",
      "[179.72534   179.21997   178.7146    178.20923   177.70386   177.22046\n",
      " 176.72607   176.20972   175.72632   175.23193     4.7351074   4.229736\n",
      "   3.713379    3.208008    2.713623    2.219238    1.7248536   1.208496\n",
      "   0.6921387]\n",
      "[  0.7690429   1.2634279   1.7797852   2.2851562   2.7905273   3.3068848\n",
      "   3.8012698   4.2736816   4.7570806 175.2649    175.78125   176.2976\n",
      " 176.80298   177.28639   177.76978   178.27515   178.7915    179.30786  ]\n",
      "(18, 801)\n"
     ]
    }
   ],
   "source": [
    "zh.shape\n",
    "ELEV_LIST = [[] for i in range(0,len(elev_grid))]\n",
    "len(ELEV_LIST)\n",
    "\n",
    "# Create mask for each azimuithal angle \n",
    "theta_0_mask = np.logical_or(np.logical_and(theta >= 0., theta < 2.), theta > 358.)\n",
    "theta_30_mask = np.logical_and(theta > 29., theta < 31.)\n",
    "theta_60_mask = np.logical_and(theta > 59., theta < 61.)\n",
    "theta_90_mask = np.logical_and(theta > 89., theta < 91.)\n",
    "theta_120_mask = np.logical_and(theta > 119., theta < 121.)\n",
    "theta_150_mask = np.logical_and(theta > 149., theta < 151.)\n",
    "\n",
    "theta_mask = [theta_0_mask,theta_30_mask,theta_60_mask,theta_90_mask,theta_120_mask,theta_150_mask]\n",
    "\n",
    "elev_0 = elev[theta_0_mask]\n",
    "elev_30 = elev[theta_30_mask]\n",
    "elev_60 = elev[theta_60_mask]\n",
    "elev_90 = elev[theta_90_mask]\n",
    "elev_120 = elev[theta_120_mask]\n",
    "elev_150 = elev[theta_150_mask]\n",
    "\n",
    "\n",
    "print(elev_0)\n",
    "print(elev_30)\n",
    "print(elev_60)\n",
    "print(elev_90)\n",
    "print(elev_120)\n",
    "print(elev_150)\n",
    "\n",
    "print(elev_0)\n",
    "\n",
    "zh_0 = zh[theta_0_mask]\n",
    "zh_30 = zh[theta_30_mask]\n",
    "zh_60 = zh[theta_60_mask]\n",
    "zh_90 = zh[theta_90_mask]\n",
    "zh_120 = zh[theta_120_mask]\n",
    "zh_150 = zh[theta_150_mask]\n",
    "\n",
    "print(zh_0.shape)\n",
    "\n",
    "\n",
    "#for i in range(0,len(elev_0)):\n",
    "#    for j in range(0,len(r)):\n",
    "#        if zh_0[i,j] >= z_thresh:\n",
    "            \n",
    "\n",
    "#len(elev)\n",
    "\n",
    "zh_0_idx = np.where(zh_0 >= z_thresh)\n",
    "zh_30_idx = np.where(zh_30 >= z_thresh)\n",
    "zh_60_idx = np.where(zh_60 >= z_thresh)\n",
    "zh_90_idx = np.where(zh_90 >= z_thresh)\n",
    "zh_120_idx = np.where(zh_120 >= z_thresh)\n",
    "zh_150_idx = np.where(zh_150 >= z_thresh)\n",
    "\n",
    "#print(zh_0_idx)\n",
    "#print(zh_30_idx)\n",
    "#print(zh_60_idx)\n",
    "#print(zh_90_idx)\n",
    "#print(zh_120_idx)\n",
    "#print(zh_150_idx)\n",
    "\n",
    "\n",
    "\n",
    "\n",
    "clutter_flag_h_0 = np.zeros((10,81))\n",
    "clutter_flag_h_30 = np.zeros((10,81))\n",
    "clutter_flag_h_60 = np.zeros((10,81))\n",
    "clutter_flag_h_90 = np.zeros((10,81))\n",
    "clutter_flag_h_120 = np.zeros((10,81))\n",
    "clutter_flag_h_150 = np.zeros((10,81))\n",
    "\n",
    "z_thresh = 45. #dBZ\n",
    "\n",
    "#print(zh_0.shape, zh_30.shape, zh_60.shape)\n",
    "#for i in range(0,len(elev)):\n",
    "#print(elev[theta_0_mask])\n",
    "#print(elev[theta_60_mask])\n",
    "#print(elev[theta_120_mask])\n",
    "#print('                  ')\n",
    "##print(elev[theta_30_mask])\n",
    "#print(elev[theta_90_mask])\n",
    "#print(elev[theta_150_mask])\n",
    "    \n",
    "#print(theta_mask)\n",
    "\n",
    "# For each azimuth, flag for clutter and indicate the Zh gates that fall within clutter flag box\n",
    "# THETA = 0 DEG\n",
    "#for i in range(0,len(elev_grid)):\n",
    "#    for j in range(0,len(r_grid)):\n",
    "\n",
    "#for i in theta_values: # 0,30,60,90,120,150\n",
    "#    for j in range(0,len(ELEV_LIST)): #0 - 59\n",
    "        \n",
    "        \n",
    "#for i in theta_values:\n",
    "#x = [[] for i in range(10)]\n",
    "#print(x)"
   ]
  },
  {
   "cell_type": "code",
   "execution_count": 47,
   "metadata": {},
   "outputs": [
    {
     "name": "stdout",
     "output_type": "stream",
     "text": [
      "(array([19, 56]), array([23, 21]))\n",
      "[45.26143264770508 56.203983306884766]\n",
      "[179.23096 179.21997]\n",
      "[2300. 2100.]\n"
     ]
    },
    {
     "ename": "TypeError",
     "evalue": "tuple indices must be integers or slices, not tuple",
     "output_type": "error",
     "traceback": [
      "\u001b[0;31m---------------------------------------------------------------------------\u001b[0m",
      "\u001b[0;31mTypeError\u001b[0m                                 Traceback (most recent call last)",
      "\u001b[0;32m<ipython-input-47-34f14ecca35c>\u001b[0m in \u001b[0;36m<module>\u001b[0;34m\u001b[0m\n\u001b[1;32m      5\u001b[0m \u001b[0mprint\u001b[0m\u001b[0;34m(\u001b[0m\u001b[0mr_m\u001b[0m\u001b[0;34m[\u001b[0m\u001b[0mzh_idx\u001b[0m\u001b[0;34m]\u001b[0m\u001b[0;34m)\u001b[0m\u001b[0;34m\u001b[0m\u001b[0m\n\u001b[1;32m      6\u001b[0m \u001b[0;34m\u001b[0m\u001b[0m\n\u001b[0;32m----> 7\u001b[0;31m \u001b[0mprint\u001b[0m\u001b[0;34m(\u001b[0m\u001b[0mzh_idx\u001b[0m\u001b[0;34m[\u001b[0m\u001b[0;34m:\u001b[0m\u001b[0;34m,\u001b[0m\u001b[0;36m0\u001b[0m\u001b[0;34m]\u001b[0m\u001b[0;34m)\u001b[0m\u001b[0;34m\u001b[0m\u001b[0m\n\u001b[0m\u001b[1;32m      8\u001b[0m \u001b[0;31m#clutter_flag_h[zh_thresh_mask] == 1.\u001b[0m\u001b[0;34m\u001b[0m\u001b[0;34m\u001b[0m\u001b[0m\n\u001b[1;32m      9\u001b[0m \u001b[0;31m#print(clutter_flag_h[19,56])\u001b[0m\u001b[0;34m\u001b[0m\u001b[0;34m\u001b[0m\u001b[0m\n",
      "\u001b[0;31mTypeError\u001b[0m: tuple indices must be integers or slices, not tuple"
     ]
    }
   ],
   "source": [
    "zh_idx = np.where(zh >= z_thresh)\n",
    "print(zh_idx)\n",
    "print(zh[zh_idx])\n",
    "print(elev_m[zh_idx])\n",
    "print(r_m[zh_idx])\n",
    "\n",
    "print(zh_idx[:,0])\n",
    "#clutter_flag_h[zh_thresh_mask] == 1.\n",
    "#print(clutter_flag_h[19,56])"
   ]
  },
  {
   "cell_type": "code",
   "execution_count": 30,
   "metadata": {},
   "outputs": [
    {
     "name": "stdout",
     "output_type": "stream",
     "text": [
      "[  0.7690429    1.2634279    1.7797852    2.2851562    2.7905273\n",
      "   3.3068848    3.8012698    4.2736816    4.7570806  175.2649\n",
      " 175.78125    176.2976     176.80298    177.28639    177.76978\n",
      " 178.27515    178.7915     179.30786    179.73633    179.23096\n",
      " 178.70361    178.18726    177.71484    177.23145    176.7151\n",
      " 176.19873    175.70435    175.20996      4.7351074    4.2187505\n",
      "   3.7023928    3.1970215    2.6916504    2.1972654    1.7028807\n",
      "   1.2194824    0.73608404   0.7800293    1.2963867    1.8017578\n",
      "   2.27417      2.7575684    3.2629395    3.7902834    4.295655\n",
      "   4.7790523  175.28687    175.77026    176.25366    176.75905\n",
      " 177.2644     177.76978    178.27515    178.7915     179.30786\n",
      " 179.71436    179.21997    178.7146     178.20923    177.70386\n",
      " 177.22046    176.72607    176.20972    175.72632    175.23193\n",
      "   4.7351074    4.229736     3.713379     3.208008     2.713623\n",
      "   2.219238     1.7248536    1.208496     0.7141114    0.7800293\n",
      "   1.2963867    1.8017578    2.2961428    2.779541     3.2629395\n",
      "   3.7792969    4.2736816    4.768067   175.30882    175.79224\n",
      " 176.27563    176.781      177.2754     177.76978    178.28613\n",
      " 178.80249    179.30786    179.72534    179.21997    178.7146\n",
      " 178.20923    177.70386    177.22046    176.72607    176.20972\n",
      " 175.72632    175.23193      4.7351074    4.229736     3.713379\n",
      "   3.208008     2.713623     2.219238     1.7248536    1.208496\n",
      "   0.6921387 ]\n"
     ]
    }
   ],
   "source": [
    "print(elev)"
   ]
  },
  {
   "cell_type": "code",
   "execution_count": 31,
   "metadata": {},
   "outputs": [
    {
     "name": "stdout",
     "output_type": "stream",
     "text": [
      "[359.97803  359.97803  359.97803  359.97803  359.97803  359.97803\n",
      " 359.97803  359.97803  359.97803    0.         0.         0.\n",
      "   0.         0.         0.         0.         0.         0.\n",
      "  30.036621  30.036621  30.025639  30.014648  30.014648  30.014648\n",
      "  30.014648  30.014648  30.014648  30.014648  29.970703  29.970703\n",
      "  29.970703  29.970703  29.970703  29.970703  29.970703  29.970703\n",
      "  29.970703  60.029297  60.018314  60.007324  60.007324  60.007324\n",
      "  60.007324  60.007324  60.007324  60.007324  59.98535   59.98535\n",
      "  59.98535   59.98535   59.98535   59.98535   59.98535   59.98535\n",
      "  59.98535   90.03296   90.02197   90.02197   90.02197   90.02197\n",
      "  90.02197   90.01099   90.        90.        90.        89.97803\n",
      "  89.97803   89.97803   89.97803   89.97803   89.97803   89.97803\n",
      "  89.97803   89.97803  120.03661  120.03661  120.03661  120.025635\n",
      " 120.01465  120.01465  120.01465  120.01465  120.01465  119.99268\n",
      " 119.99268  119.99268  119.99268  119.99268  119.99268  119.99268\n",
      " 119.99268  119.99268  150.0293   150.0293   150.0293   150.0293\n",
      " 150.01831  150.00732  150.00732  150.00732  150.00732  150.00732\n",
      " 149.98535  149.98535  149.98535  149.98535  149.98535  149.98535\n",
      " 149.98535  149.98535  149.98535 ]\n"
     ]
    }
   ],
   "source": [
    "print(theta)"
   ]
  },
  {
   "cell_type": "code",
   "execution_count": null,
   "metadata": {},
   "outputs": [],
   "source": []
  }
 ],
 "metadata": {
  "kernelspec": {
   "display_name": "Python 3",
   "language": "python",
   "name": "python3"
  },
  "language_info": {
   "codemirror_mode": {
    "name": "ipython",
    "version": 3
   },
   "file_extension": ".py",
   "mimetype": "text/x-python",
   "name": "python",
   "nbconvert_exporter": "python",
   "pygments_lexer": "ipython3",
   "version": "3.6.6"
  }
 },
 "nbformat": 4,
 "nbformat_minor": 2
}
