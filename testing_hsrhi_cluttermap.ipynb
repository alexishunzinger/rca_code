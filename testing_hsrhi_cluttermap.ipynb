{
 "cells": [
  {
   "cell_type": "code",
   "execution_count": 16,
   "metadata": {},
   "outputs": [
    {
     "name": "stdout",
     "output_type": "stream",
     "text": [
      "\n",
      "## You are using the Python ARM Radar Toolkit (Py-ART), an open source\n",
      "## library for working with weather radar data. Py-ART is partly\n",
      "## supported by the U.S. Department of Energy as part of the Atmospheric\n",
      "## Radiation Measurement (ARM) Climate Research Facility, an Office of\n",
      "## Science user facility.\n",
      "##\n",
      "## If you use this software to prepare a publication, please cite:\n",
      "##\n",
      "##     JJ Helmus and SM Collis, JORS 2016, doi: 10.5334/jors.119\n",
      "\n"
     ]
    }
   ],
   "source": [
    "import numpy as np\n",
    "import pyart\n"
   ]
  },
  {
   "cell_type": "code",
   "execution_count": 17,
   "metadata": {},
   "outputs": [],
   "source": [
    "r_grid = np.arange(81)*1000.\n",
    "elev_grid_1 = np.arange(5.)\n",
    "elev_grid_2 = np.arange(5.)+175.\n",
    "el_grid = np.concatenate((elev_grid_1,elev_grid_2),axis=0)\n",
    "el_grid_r = el_grid[::-1]"
   ]
  },
  {
   "cell_type": "code",
   "execution_count": 18,
   "metadata": {},
   "outputs": [
    {
     "name": "stdout",
     "output_type": "stream",
     "text": [
      "[0. 1. 2. 3. 4.]\n",
      "[175. 176. 177. 178. 179.]\n",
      "[  0.   1.   2.   3.   4. 175. 176. 177. 178. 179.]\n",
      "[179. 178. 177. 176. 175.   4.   3.   2.   1.   0.]\n"
     ]
    }
   ],
   "source": [
    "print(elev_grid_1)\n",
    "print(elev_grid_2)\n",
    "print(el_grid)\n",
    "print(el_grid_r)"
   ]
  },
  {
   "cell_type": "code",
   "execution_count": 19,
   "metadata": {},
   "outputs": [],
   "source": [
    "el_grd = np.concatenate((el_grid,el_grid_r),axis=0)"
   ]
  },
  {
   "cell_type": "code",
   "execution_count": 20,
   "metadata": {},
   "outputs": [
    {
     "data": {
      "text/plain": [
       "(20,)"
      ]
     },
     "execution_count": 20,
     "metadata": {},
     "output_type": "execute_result"
    }
   ],
   "source": [
    "el_grd.shape"
   ]
  },
  {
   "cell_type": "code",
   "execution_count": 21,
   "metadata": {},
   "outputs": [],
   "source": [
    "elev_grid = np.concatenate((el_grd,el_grd,el_grd),axis=0)"
   ]
  },
  {
   "cell_type": "code",
   "execution_count": 22,
   "metadata": {},
   "outputs": [
    {
     "data": {
      "text/plain": [
       "(60,)"
      ]
     },
     "execution_count": 22,
     "metadata": {},
     "output_type": "execute_result"
    }
   ],
   "source": [
    "elev_grid.shape"
   ]
  },
  {
   "cell_type": "code",
   "execution_count": 23,
   "metadata": {},
   "outputs": [
    {
     "name": "stdout",
     "output_type": "stream",
     "text": [
      "[  0.   1.   2.   3.   4. 175. 176. 177. 178. 179. 179. 178. 177. 176.\n",
      " 175.   4.   3.   2.   1.   0.   0.   1.   2.   3.   4. 175. 176. 177.\n",
      " 178. 179. 179. 178. 177. 176. 175.   4.   3.   2.   1.   0.   0.   1.\n",
      "   2.   3.   4. 175. 176. 177. 178. 179. 179. 178. 177. 176. 175.   4.\n",
      "   3.   2.   1.   0.]\n"
     ]
    }
   ],
   "source": [
    "print(elev_grid)"
   ]
  },
  {
   "cell_type": "code",
   "execution_count": 28,
   "metadata": {},
   "outputs": [],
   "source": [
    "filename = '/run/media/hunzinger/WININSTALL/csapr2-data/corcsaprM1.00.20181018.152556.raw.cor-hsrhi-cacti-b_CSAPR2_20181018152556_00.h5'\n",
    "radar = pyart.aux_io.read_gamic(filename, file_field_names=True) \n",
    "\n",
    "r_start_idx = 0\n",
    "r_stop_idx = np.where(radar.range['data'] > 80000.)[0][0]\n",
    "    \n",
    "elev = radar.elevation['data']\n",
    "elev_mask =  np.logical_or(np.abs(elev) < 5., elev > 175.)\n",
    "\n",
    "r = radar.range['data'][r_start_idx:r_stop_idx]\n",
    "theta = radar.azimuth['data'][elev_mask]\n",
    "zh = radar.fields['Zh']['data'][elev_mask,r_start_idx:r_stop_idx]\n",
    "elev = elev[elev_mask]\n",
    "\n",
    "r_grid = np.arange(81)*1000.\n",
    "theta_values = np.arange(6.)*30\n",
    "elev_grid_1 = np.arange(5.)\n",
    "elev_grid_2 = np.arange(5.)+175.\n",
    "el_grid = np.concatenate((elev_grid_1,elev_grid_2),axis=0)\n",
    "el_grid_r = el_grid[::-1]\n",
    "el = np.concatenate((el_grid,el_grid_r),axis=0)\n",
    "elev_grid = np.concatenate((el,el,el),axis=0)"
   ]
  },
  {
   "cell_type": "code",
   "execution_count": 49,
   "metadata": {},
   "outputs": [
    {
     "name": "stdout",
     "output_type": "stream",
     "text": [
      "0\n",
      "1\n",
      "2\n",
      "3\n",
      "4\n",
      "5\n",
      "6\n",
      "7\n",
      "8\n",
      "9\n",
      "10\n",
      "11\n",
      "12\n",
      "13\n",
      "14\n",
      "15\n",
      "16\n",
      "17\n",
      "18\n",
      "19\n",
      "20\n",
      "21\n",
      "22\n",
      "23\n",
      "24\n",
      "25\n",
      "26\n",
      "27\n",
      "28\n",
      "29\n",
      "30\n",
      "31\n",
      "32\n",
      "33\n",
      "34\n",
      "35\n",
      "36\n",
      "37\n",
      "38\n",
      "39\n",
      "40\n",
      "41\n",
      "42\n",
      "43\n",
      "44\n",
      "45\n",
      "46\n",
      "47\n",
      "48\n",
      "49\n",
      "50\n",
      "51\n",
      "52\n",
      "53\n",
      "54\n",
      "55\n",
      "56\n",
      "57\n",
      "58\n",
      "59\n"
     ]
    }
   ],
   "source": [
    "zh.shape\n",
    "ELEV_LIST = [[] for i in range(0,len(elev_grid))]\n",
    "len(ELEV_LIST)\n",
    "\n",
    "# Create mask for each azimuithal angle \n",
    "theta_0_mask = np.logical_or(np.logical_and(theta >= 0., theta < 2.), theta > 358.)\n",
    "theta_30_mask = np.logical_and(theta > 29., theta < 31.)\n",
    "theta_60_mask = np.logical_and(theta > 59., theta < 61.)\n",
    "theta_90_mask = np.logical_and(theta > 89., theta < 91.)\n",
    "theta_120_mask = np.logical_and(theta > 119., theta < 121.)\n",
    "theta_150_mask = np.logical_and(theta > 149., theta < 151.)\n",
    "\n",
    "\n",
    "\n",
    "for i in theta_values: # 0,30,60,90,120,150\n",
    "    for j in range(0,len(ELEV_LIST)): #0 - 59\n",
    "        \n",
    "        \n",
    "#for i in theta_values:\n",
    "#x = [[] for i in range(10)]\n",
    "#print(x)"
   ]
  },
  {
   "cell_type": "code",
   "execution_count": 30,
   "metadata": {},
   "outputs": [
    {
     "name": "stdout",
     "output_type": "stream",
     "text": [
      "[  0.7690429    1.2634279    1.7797852    2.2851562    2.7905273\n",
      "   3.3068848    3.8012698    4.2736816    4.7570806  175.2649\n",
      " 175.78125    176.2976     176.80298    177.28639    177.76978\n",
      " 178.27515    178.7915     179.30786    179.73633    179.23096\n",
      " 178.70361    178.18726    177.71484    177.23145    176.7151\n",
      " 176.19873    175.70435    175.20996      4.7351074    4.2187505\n",
      "   3.7023928    3.1970215    2.6916504    2.1972654    1.7028807\n",
      "   1.2194824    0.73608404   0.7800293    1.2963867    1.8017578\n",
      "   2.27417      2.7575684    3.2629395    3.7902834    4.295655\n",
      "   4.7790523  175.28687    175.77026    176.25366    176.75905\n",
      " 177.2644     177.76978    178.27515    178.7915     179.30786\n",
      " 179.71436    179.21997    178.7146     178.20923    177.70386\n",
      " 177.22046    176.72607    176.20972    175.72632    175.23193\n",
      "   4.7351074    4.229736     3.713379     3.208008     2.713623\n",
      "   2.219238     1.7248536    1.208496     0.7141114    0.7800293\n",
      "   1.2963867    1.8017578    2.2961428    2.779541     3.2629395\n",
      "   3.7792969    4.2736816    4.768067   175.30882    175.79224\n",
      " 176.27563    176.781      177.2754     177.76978    178.28613\n",
      " 178.80249    179.30786    179.72534    179.21997    178.7146\n",
      " 178.20923    177.70386    177.22046    176.72607    176.20972\n",
      " 175.72632    175.23193      4.7351074    4.229736     3.713379\n",
      "   3.208008     2.713623     2.219238     1.7248536    1.208496\n",
      "   0.6921387 ]\n"
     ]
    }
   ],
   "source": [
    "print(elev)"
   ]
  },
  {
   "cell_type": "code",
   "execution_count": 31,
   "metadata": {},
   "outputs": [
    {
     "name": "stdout",
     "output_type": "stream",
     "text": [
      "[359.97803  359.97803  359.97803  359.97803  359.97803  359.97803\n",
      " 359.97803  359.97803  359.97803    0.         0.         0.\n",
      "   0.         0.         0.         0.         0.         0.\n",
      "  30.036621  30.036621  30.025639  30.014648  30.014648  30.014648\n",
      "  30.014648  30.014648  30.014648  30.014648  29.970703  29.970703\n",
      "  29.970703  29.970703  29.970703  29.970703  29.970703  29.970703\n",
      "  29.970703  60.029297  60.018314  60.007324  60.007324  60.007324\n",
      "  60.007324  60.007324  60.007324  60.007324  59.98535   59.98535\n",
      "  59.98535   59.98535   59.98535   59.98535   59.98535   59.98535\n",
      "  59.98535   90.03296   90.02197   90.02197   90.02197   90.02197\n",
      "  90.02197   90.01099   90.        90.        90.        89.97803\n",
      "  89.97803   89.97803   89.97803   89.97803   89.97803   89.97803\n",
      "  89.97803   89.97803  120.03661  120.03661  120.03661  120.025635\n",
      " 120.01465  120.01465  120.01465  120.01465  120.01465  119.99268\n",
      " 119.99268  119.99268  119.99268  119.99268  119.99268  119.99268\n",
      " 119.99268  119.99268  150.0293   150.0293   150.0293   150.0293\n",
      " 150.01831  150.00732  150.00732  150.00732  150.00732  150.00732\n",
      " 149.98535  149.98535  149.98535  149.98535  149.98535  149.98535\n",
      " 149.98535  149.98535  149.98535 ]\n"
     ]
    }
   ],
   "source": [
    "print(theta)"
   ]
  },
  {
   "cell_type": "code",
   "execution_count": null,
   "metadata": {},
   "outputs": [],
   "source": []
  }
 ],
 "metadata": {
  "kernelspec": {
   "display_name": "Python 3",
   "language": "python",
   "name": "python3"
  },
  "language_info": {
   "codemirror_mode": {
    "name": "ipython",
    "version": 3
   },
   "file_extension": ".py",
   "mimetype": "text/x-python",
   "name": "python",
   "nbconvert_exporter": "python",
   "pygments_lexer": "ipython3",
   "version": "3.6.6"
  }
 },
 "nbformat": 4,
 "nbformat_minor": 2
}
